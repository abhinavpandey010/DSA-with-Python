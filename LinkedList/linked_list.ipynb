{
 "cells": [
  {
   "cell_type": "markdown",
   "id": "05528ba4",
   "metadata": {},
   "source": [
    "### Linked List"
   ]
  },
  {
   "cell_type": "markdown",
   "id": "30a68aac",
   "metadata": {},
   "source": [
    "What is linked list?\n",
    "- Order of Linkedlist for writing operation is O(1) but for reading operation is O(n) because elements stored in ll in non-contigous memory location\n",
    "- Linked List is linear data structure\n",
    "- Linked list consist nodes to store address of next node\n",
    "- by using linked list can create more data structure like stack,queue\n",
    "\n"
   ]
  },
  {
   "cell_type": "markdown",
   "id": "2585541e",
   "metadata": {},
   "source": [
    "# 📘 Types of Linked List (with Diagrams & Applications)\n",
    "\n",
    "---\n",
    "\n",
    "## 1. Singly Linked List\n",
    "Each node contains:\n",
    "- **Data**\n",
    "- **Next pointer** (points to the next node)"
   ]
  },
  {
   "cell_type": "markdown",
   "id": "069eb204",
   "metadata": {},
   "source": [
    "Head → [Data|Next] → [Data|Next] → [Data|NULL]"
   ]
  },
  {
   "cell_type": "markdown",
   "id": "ee32455f",
   "metadata": {},
   "source": [
    "\n",
    "- Traversal is **one-directional**.  \n",
    "- Last node points to `NULL`.  \n",
    "\n",
    "**Applications:**  \n",
    "- Implementing **stacks and queues**  \n",
    "- **Polynomial representation** in mathematics  \n",
    "- **Dynamic memory allocation**\n",
    "\n",
    "---\n",
    "\n",
    "## 2. Doubly Linked List\n",
    "Each node contains:\n",
    "- **Data**\n",
    "- **Prev pointer**\n",
    "- **Next pointer**\n",
    "\n"
   ]
  },
  {
   "cell_type": "markdown",
   "id": "51717035",
   "metadata": {},
   "source": [
    "NULL ← [Prev|Data|Next] ⇄ [Prev|Data|Next] ⇄ [Prev|Data|Next] → NULL"
   ]
  },
  {
   "cell_type": "markdown",
   "id": "a1751965",
   "metadata": {},
   "source": [
    "\n",
    "- Traversal is **two-directional**.  \n",
    "\n",
    "**Applications:**  \n",
    "- **Browser history navigation** (forward/back)  \n",
    "- **Music or video playlists** (next/previous)  \n",
    "- **Undo/Redo** functionality in editors  \n",
    "\n",
    "---\n",
    "\n",
    "## 3. Circular Singly Linked List\n",
    "Similar to singly linked list, but last node points back to the first node.\n",
    "\n"
   ]
  },
  {
   "cell_type": "markdown",
   "id": "e83fb01b",
   "metadata": {},
   "source": [
    "Head →    [Data|Next] →      [Data|Next] →       [Data|Next] \n",
    "\n",
    "└────────────────────────────────────────┘"
   ]
  },
  {
   "cell_type": "markdown",
   "id": "dfdf40d2",
   "metadata": {},
   "source": [
    "\n",
    "- Forms a **circle**.  \n",
    "\n",
    "**Applications:**  \n",
    "- **CPU scheduling (Round Robin algorithm)**  \n",
    "- **Multi-player games** (managing turns)  \n",
    "- **Buffer management** (circular queues)\n",
    "\n",
    "---\n",
    "\n",
    "## 4. Circular Doubly Linked List\n",
    "Each node has both **Prev** and **Next** pointers.  \n",
    "Last node connects back to the head, and head connects back to the last node.\n",
    "\n"
   ]
  },
  {
   "cell_type": "markdown",
   "id": "699f16d5",
   "metadata": {},
   "source": [
    "[Head] ⇄ [Node1] ⇄ [Node2] ⇄ [Node3] ⇄\n",
    "\n",
    "↑ ↓\n",
    "\n",
    "└──────────────⇦⇦⇦⇦⇦⇦⇦⇦────────────┘"
   ]
  },
  {
   "cell_type": "markdown",
   "id": "6c2b4531",
   "metadata": {},
   "source": [
    "\n",
    "- Traversal is possible in both directions.  \n",
    "\n",
    "**Applications:**  \n",
    "- **Advanced memory management**  \n",
    "- **Navigation systems** (move forward/backward in paths)  \n",
    "- **Playlist management** with continuous looping  \n",
    "\n",
    "---\n",
    "\n",
    "## 5. Multi Linked List\n",
    "Each node contains **multiple pointers** (more than two).  \n",
    "It can link to multiple lists or structures at the same time.  \n",
    "\n",
    "Example (for a graph adjacency list):\n",
    "\n"
   ]
  },
  {
   "cell_type": "markdown",
   "id": "e69bf41d",
   "metadata": {},
   "source": [
    "[Vertex A] → [B] → [C]\n",
    "\n",
    "[Vertex B] → [C] → [D]\n",
    "\n",
    "[Vertex C] → [A]"
   ]
  },
  {
   "cell_type": "markdown",
   "id": "cc09ad74",
   "metadata": {},
   "source": [
    "\n",
    "- Used in **graphs**, **sparse matrices**, etc.  \n",
    "\n",
    "**Applications:**  \n",
    "- **Graph representations** (adjacency lists)  \n",
    "- **Sparse matrix storage** (row and column pointers)  \n",
    "- **Database indexing**\n",
    "\n",
    "---\n",
    "\n",
    "## 6. Other Variants\n",
    "- **Skip List** → multiple forward pointers for fast search.  \n",
    "- **Unrolled Linked List** → multiple data items in one node.  \n",
    "- **Self-adjusting Linked List** → reorganizes based on access frequency.  \n",
    "\n",
    "**Applications:**  \n",
    "- **Skip list** → used in memory-efficient search engines.  \n",
    "- **Unrolled linked list** → used in text editors for storing large text.  \n",
    "- **Self-adjusting list** → improves frequently accessed data retrieval.  \n",
    "\n",
    "---\n",
    "\n",
    "## 📊 Summary Table\n",
    "\n",
    "| Type                        | Direction     | Last Node Points To   | Memory Usage | Traversal   | Applications |\n",
    "|------------------------------|--------------|------------------------|--------------|-------------|--------------|\n",
    "| Singly Linked List           | Forward only | NULL                   | Low          | One-way     | Stacks, Queues, Polynomial representation |\n",
    "| Doubly Linked List           | Forward/Back | NULL                   | Medium       | Two-way     | Browser history, Undo/Redo, Playlists |\n",
    "| Circular Singly Linked List  | Forward only | Head node              | Low          | One-way     | CPU Scheduling, Multiplayer games, Buffers |\n",
    "| Circular Doubly Linked List  | Forward/Back | Head & Tail (circular) | High         | Two-way     | Memory management, Navigation, Continuous Playlists |\n",
    "| Multi Linked List            | Multi-points | Multiple nodes/lists   | High         | Multi-path  | Graphs, Sparse matrices, Database indexing |\n"
   ]
  },
  {
   "cell_type": "markdown",
   "id": "2dca26d1",
   "metadata": {},
   "source": []
  },
  {
   "cell_type": "code",
   "execution_count": null,
   "id": "6a76cd2a",
   "metadata": {},
   "outputs": [],
   "source": [
    "# Node \n",
    "class Node:\n",
    "    def __init__(self,value):\n",
    "        self.data = value\n",
    "        self.next = None"
   ]
  },
  {
   "cell_type": "code",
   "execution_count": 3,
   "id": "f7786f19",
   "metadata": {},
   "outputs": [],
   "source": [
    "a = Node(1)\n",
    "b = Node(2)\n",
    "c = Node(3)"
   ]
  },
  {
   "cell_type": "code",
   "execution_count": 4,
   "id": "42a94bf8",
   "metadata": {},
   "outputs": [],
   "source": [
    "a.next = b\n",
    "b.next = c"
   ]
  },
  {
   "cell_type": "code",
   "execution_count": 5,
   "id": "447c60b4",
   "metadata": {},
   "outputs": [
    {
     "name": "stdout",
     "output_type": "stream",
     "text": [
      "<__main__.Node object at 0x0000023795E4FC50>\n"
     ]
    }
   ],
   "source": [
    "print(b)"
   ]
  },
  {
   "cell_type": "markdown",
   "id": "b2ffdd57",
   "metadata": {},
   "source": [
    "### Create a linked list ###"
   ]
  },
  {
   "cell_type": "markdown",
   "id": "349aef21",
   "metadata": {},
   "source": [
    "#### linked list has main four operations\n",
    "- insert : head,tail,middle\n",
    "- traverse : print\n",
    "- delete : head,tail,value(remove),index\n",
    "- search : value,index\n"
   ]
  },
  {
   "cell_type": "code",
   "execution_count": 2,
   "id": "d37a4cb6",
   "metadata": {},
   "outputs": [],
   "source": [
    "class Node:\n",
    "    def __init__(self,value):\n",
    "        self.data = value\n",
    "        self.next = None"
   ]
  },
  {
   "cell_type": "markdown",
   "id": "52a63696",
   "metadata": {},
   "source": [
    "- to create an empty linked list head of node must be none"
   ]
  },
  {
   "cell_type": "code",
   "execution_count": null,
   "id": "2618d841",
   "metadata": {},
   "outputs": [],
   "source": [
    "class LinkedList:\n",
    "    def __init__(self):\n",
    "        \n",
    "        # empty ll\n",
    "        self.head = None\n",
    "        # no of nodes in ll \n",
    "        self.n = 0\n",
    "\n",
    "    # length of ll = no of nodes in ll\n",
    "    # calculate length of ll i.e no of nodes in linked list\n",
    "    def __len__(self):\n",
    "        return self.n\n",
    "    \n",
    "    def insert_head(self,value):\n",
    "        \n",
    "        # new node\n",
    "        new_node = Node(value)\n",
    "        \n",
    "        # create connection\n",
    "        new_node.next = self.head\n",
    "        \n",
    "        # reassign head\n",
    "        self.head = new_node\n",
    "        \n",
    "        # increment n\n",
    "        self.n += 1\n",
    "    \n",
    "    # def traverse(self):\n",
    "    #     curr = self.head\n",
    "    #     while curr!= None:\n",
    "    #         print(curr.data)\n",
    "    #         curr = curr.next\n",
    "    def __str__(self):\n",
    "        curr = self.head\n",
    "        result = ''\n",
    "        while curr!= None:\n",
    "            result = result + str(curr.data) + '->'\n",
    "            curr = curr.next\n",
    "        return result[:-2]\n",
    "    def append(self,value):\n",
    "        \n",
    "        new_node = Node(value)\n",
    "        if(self.head == None):\n",
    "            self.head = new_node\n",
    "            self.n = self.n + 1\n",
    "            return\n",
    "        curr = self.head\n",
    "        while curr.next != None:\n",
    "            curr = curr.next\n",
    "        # you are at last node\n",
    "        curr.next = new_node\n",
    "        self.n = self.n + 1\n",
    "        "
   ]
  },
  {
   "cell_type": "code",
   "execution_count": 12,
   "id": "7229269d",
   "metadata": {},
   "outputs": [],
   "source": [
    "L = LinkedList()"
   ]
  },
  {
   "cell_type": "code",
   "execution_count": 16,
   "id": "6bfca243",
   "metadata": {},
   "outputs": [
    {
     "data": {
      "text/plain": [
       "5"
      ]
     },
     "execution_count": 16,
     "metadata": {},
     "output_type": "execute_result"
    }
   ],
   "source": [
    "L.insert_head(1)\n",
    "L.insert_head(2)\n",
    "L.insert_head(3)\n",
    "L.insert_head(4)\n",
    "L.insert_head(5)\n",
    "len(L)"
   ]
  },
  {
   "cell_type": "code",
   "execution_count": 19,
   "id": "188756f9",
   "metadata": {},
   "outputs": [
    {
     "name": "stdout",
     "output_type": "stream",
     "text": [
      "5->4->3->2->1->6\n"
     ]
    }
   ],
   "source": [
    "print(L)"
   ]
  },
  {
   "cell_type": "code",
   "execution_count": 18,
   "id": "b86771d2",
   "metadata": {},
   "outputs": [],
   "source": [
    "L.append(6)"
   ]
  }
 ],
 "metadata": {
  "kernelspec": {
   "display_name": "venv",
   "language": "python",
   "name": "python3"
  },
  "language_info": {
   "codemirror_mode": {
    "name": "ipython",
    "version": 3
   },
   "file_extension": ".py",
   "mimetype": "text/x-python",
   "name": "python",
   "nbconvert_exporter": "python",
   "pygments_lexer": "ipython3",
   "version": "3.13.3"
  }
 },
 "nbformat": 4,
 "nbformat_minor": 5
}
