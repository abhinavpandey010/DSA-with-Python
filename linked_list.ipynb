{
 "cells": [
  {
   "cell_type": "markdown",
   "id": "05528ba4",
   "metadata": {},
   "source": [
    "- Order of Linkedlist for writing operation is O(1) but for reading operation is O(n) because elements stored in ll in non-contigous memory location\n",
    "- Linked List is linear data structure\n",
    "- Linked list consist nodes to store address of next node\n",
    "- by using linked list can create more data structure like stack,queue\n",
    "\n"
   ]
  },
  {
   "cell_type": "markdown",
   "id": "1c1f321a",
   "metadata": {},
   "source": []
  }
 ],
 "metadata": {
  "language_info": {
   "name": "python"
  }
 },
 "nbformat": 4,
 "nbformat_minor": 5
}
