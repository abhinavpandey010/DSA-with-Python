{
 "cells": [
  {
   "cell_type": "markdown",
   "id": "05528ba4",
   "metadata": {},
   "source": [
    "### Linked List"
   ]
  },
  {
   "cell_type": "markdown",
   "id": "30a68aac",
   "metadata": {},
   "source": [
    "What is linked list?\n",
    "- Order of Linkedlist for writing operation is O(1) but for reading operation is O(n) because elements stored in ll in non-contigous memory location\n",
    "- Linked List is linear data structure\n",
    "- Linked list consist nodes to store address of next node\n",
    "- by using linked list can create more data structure like stack,queue\n",
    "\n"
   ]
  },
  {
   "cell_type": "code",
   "execution_count": null,
   "id": "6a76cd2a",
   "metadata": {},
   "outputs": [],
   "source": [
    "# Node \n",
    "class Node:\n",
    "    def __init__(self,value):\n",
    "        self.data = value\n",
    "        self.next = None"
   ]
  },
  {
   "cell_type": "code",
   "execution_count": 3,
   "id": "f7786f19",
   "metadata": {},
   "outputs": [],
   "source": [
    "a = Node(1)\n",
    "b = Node(2)\n",
    "c = Node(3)"
   ]
  },
  {
   "cell_type": "code",
   "execution_count": 4,
   "id": "42a94bf8",
   "metadata": {},
   "outputs": [],
   "source": [
    "a.next = b\n",
    "b.next = c"
   ]
  },
  {
   "cell_type": "code",
   "execution_count": 7,
   "id": "447c60b4",
   "metadata": {},
   "outputs": [
    {
     "name": "stdout",
     "output_type": "stream",
     "text": [
      "<__main__.Node object at 0x0000022159D1EC10>\n"
     ]
    }
   ],
   "source": [
    "print(b)"
   ]
  },
  {
   "cell_type": "markdown",
   "id": "b2ffdd57",
   "metadata": {},
   "source": [
    "### Create a linked list ###"
   ]
  },
  {
   "cell_type": "code",
   "execution_count": 10,
   "id": "d37a4cb6",
   "metadata": {},
   "outputs": [],
   "source": [
    "class Node:\n",
    "    def __init__(self,value):\n",
    "        self.data = value\n",
    "        self.next = None"
   ]
  },
  {
   "cell_type": "markdown",
   "id": "52a63696",
   "metadata": {},
   "source": [
    "- to create an empty linked list head of node must be none"
   ]
  },
  {
   "cell_type": "code",
   "execution_count": null,
   "id": "2618d841",
   "metadata": {},
   "outputs": [],
   "source": [
    "class LinkedList:\n",
    "    def __init__(self):\n",
    "        \n",
    "        # empty ll\n",
    "        self.head = None\n",
    "        self.n = 0"
   ]
  }
 ],
 "metadata": {
  "kernelspec": {
   "display_name": "venv",
   "language": "python",
   "name": "python3"
  },
  "language_info": {
   "codemirror_mode": {
    "name": "ipython",
    "version": 3
   },
   "file_extension": ".py",
   "mimetype": "text/x-python",
   "name": "python",
   "nbconvert_exporter": "python",
   "pygments_lexer": "ipython3",
   "version": "3.13.3"
  }
 },
 "nbformat": 4,
 "nbformat_minor": 5
}
