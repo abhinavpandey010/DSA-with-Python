{
 "cells": [
  {
   "cell_type": "markdown",
   "id": "05528ba4",
   "metadata": {},
   "source": [
    "### Linked List"
   ]
  },
  {
   "cell_type": "markdown",
   "id": "30a68aac",
   "metadata": {},
   "source": [
    "What is linked list?\n",
    "- Order of Linkedlist for writing operation is O(1) but for reading operation is O(n) because elements stored in ll in non-contigous memory location\n",
    "- Linked List is linear data structure\n",
    "- Linked list consist nodes to store address of next node\n",
    "- by using linked list can create more data structure like stack,queue\n",
    "\n"
   ]
  },
  {
   "cell_type": "code",
   "execution_count": 2,
   "id": "6a76cd2a",
   "metadata": {},
   "outputs": [],
   "source": [
    "# Node \n",
    "class Node:\n",
    "    def __init__(self,value):\n",
    "        self.data = value\n",
    "        self.next = None"
   ]
  },
  {
   "cell_type": "code",
   "execution_count": 3,
   "id": "f7786f19",
   "metadata": {},
   "outputs": [],
   "source": [
    "a = Node(1)\n",
    "b = Node(2)\n",
    "c = Node(3)"
   ]
  },
  {
   "cell_type": "code",
   "execution_count": 4,
   "id": "42a94bf8",
   "metadata": {},
   "outputs": [],
   "source": [
    "a.next = b\n",
    "b.next = c"
   ]
  },
  {
   "cell_type": "code",
   "execution_count": 5,
   "id": "447c60b4",
   "metadata": {},
   "outputs": [
    {
     "name": "stdout",
     "output_type": "stream",
     "text": [
      "<__main__.Node object at 0x0000023795E4FC50>\n"
     ]
    }
   ],
   "source": [
    "print(b)"
   ]
  },
  {
   "cell_type": "markdown",
   "id": "b2ffdd57",
   "metadata": {},
   "source": [
    "### Create a linked list ###"
   ]
  },
  {
   "cell_type": "markdown",
   "id": "349aef21",
   "metadata": {},
   "source": [
    "#### linked list has main four operations\n",
    "- insert : head,tail,middle\n",
    "- traverse : print\n",
    "- delete : head,tail,value(remove),index\n",
    "- search : value,index\n"
   ]
  },
  {
   "cell_type": "code",
   "execution_count": 2,
   "id": "d37a4cb6",
   "metadata": {},
   "outputs": [],
   "source": [
    "class Node:\n",
    "    def __init__(self,value):\n",
    "        self.data = value\n",
    "        self.next = None"
   ]
  },
  {
   "cell_type": "markdown",
   "id": "52a63696",
   "metadata": {},
   "source": [
    "- to create an empty linked list head of node must be none"
   ]
  },
  {
   "cell_type": "code",
   "execution_count": null,
   "id": "2618d841",
   "metadata": {},
   "outputs": [],
   "source": [
    "class LinkedList:\n",
    "    def __init__(self):\n",
    "        \n",
    "        # empty ll\n",
    "        self.head = None\n",
    "        # no of nodes in ll \n",
    "        self.n = 0\n",
    "\n",
    "    # length of ll = no of nodes in ll\n",
    "    # calculate length of ll i.e no of nodes in linked list\n",
    "    def __len__(self):\n",
    "        return self.n\n",
    "    \n",
    "    def insert_head(self,value):\n",
    "        \n",
    "        # new node\n",
    "        new_node = Node(value)\n",
    "        \n",
    "        # create connection\n",
    "        new_node.next = self.head\n",
    "        \n",
    "        # reassign head\n",
    "        self.head = new_node\n",
    "        \n",
    "        # increment n\n",
    "        self.n += 1\n",
    "    \n",
    "    # def traverse(self):\n",
    "    #     curr = self.head\n",
    "    #     while curr!= None:\n",
    "    #         print(curr.data)\n",
    "    #         curr = curr.next\n",
    "    def __str__(self):\n",
    "        curr = self.head\n",
    "        result = ''\n",
    "        while curr!= None:\n",
    "            result = result + str(curr.data) + '->'\n",
    "            curr = curr.next\n",
    "        return result[:-2]\n",
    "    def append(self,value):\n",
    "        \n",
    "        new_node = Node(value)\n",
    "        if(self.head == None):\n",
    "            self.head = new_node\n",
    "            self.n = self.n + 1\n",
    "            return\n",
    "        curr = self.head\n",
    "        while curr.next != None:\n",
    "            curr = curr.next\n",
    "        # you are at last node\n",
    "        curr.next = new_node\n",
    "        self.n = self.n + 1\n",
    "        "
   ]
  },
  {
   "cell_type": "code",
   "execution_count": 12,
   "id": "7229269d",
   "metadata": {},
   "outputs": [],
   "source": [
    "L = LinkedList()"
   ]
  },
  {
   "cell_type": "code",
   "execution_count": 16,
   "id": "6bfca243",
   "metadata": {},
   "outputs": [
    {
     "data": {
      "text/plain": [
       "5"
      ]
     },
     "execution_count": 16,
     "metadata": {},
     "output_type": "execute_result"
    }
   ],
   "source": [
    "L.insert_head(1)\n",
    "L.insert_head(2)\n",
    "L.insert_head(3)\n",
    "L.insert_head(4)\n",
    "L.insert_head(5)\n",
    "len(L)"
   ]
  },
  {
   "cell_type": "code",
   "execution_count": 19,
   "id": "188756f9",
   "metadata": {},
   "outputs": [
    {
     "name": "stdout",
     "output_type": "stream",
     "text": [
      "5->4->3->2->1->6\n"
     ]
    }
   ],
   "source": [
    "print(L)"
   ]
  },
  {
   "cell_type": "code",
   "execution_count": 18,
   "id": "b86771d2",
   "metadata": {},
   "outputs": [],
   "source": [
    "L.append(6)"
   ]
  }
 ],
 "metadata": {
  "kernelspec": {
   "display_name": "venv",
   "language": "python",
   "name": "python3"
  },
  "language_info": {
   "codemirror_mode": {
    "name": "ipython",
    "version": 3
   },
   "file_extension": ".py",
   "mimetype": "text/x-python",
   "name": "python",
   "nbconvert_exporter": "python",
   "pygments_lexer": "ipython3",
   "version": "3.13.3"
  }
 },
 "nbformat": 4,
 "nbformat_minor": 5
}
