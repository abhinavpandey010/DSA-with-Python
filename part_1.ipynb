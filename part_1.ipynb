{
 "cells": [
  {
   "cell_type": "markdown",
   "id": "a26920f9",
   "metadata": {},
   "source": [
    "# What is efficiency in programming?"
   ]
  },
  {
   "cell_type": "markdown",
   "id": "c0bdefb0",
   "metadata": {},
   "source": [
    "1. Time and space are the factors which are responsible for efficiency for programming\n",
    "\n",
    "---techniques to measure time efficiency---\n",
    "1. Measuring time to execute\n",
    "2. counting opertaions involved\n",
    "3. Abstract notion of order of growth"
   ]
  },
  {
   "cell_type": "markdown",
   "id": "4e42b61c",
   "metadata": {},
   "source": [
    "# 1.Measuring time"
   ]
  },
  {
   "cell_type": "code",
   "execution_count": 5,
   "id": "b640e86a",
   "metadata": {},
   "outputs": [
    {
     "name": "stdout",
     "output_type": "stream",
     "text": [
      "1\n",
      "2\n",
      "3\n",
      "4\n",
      "5\n",
      "6\n",
      "7\n",
      "8\n",
      "9\n",
      "10\n",
      "11\n",
      "12\n",
      "13\n",
      "14\n",
      "15\n",
      "16\n",
      "17\n",
      "18\n",
      "19\n",
      "20\n",
      "21\n",
      "22\n",
      "23\n",
      "24\n",
      "25\n",
      "26\n",
      "27\n",
      "28\n",
      "29\n",
      "30\n",
      "31\n",
      "32\n",
      "33\n",
      "34\n",
      "35\n",
      "36\n",
      "37\n",
      "38\n",
      "39\n",
      "40\n",
      "41\n",
      "42\n",
      "43\n",
      "44\n",
      "45\n",
      "46\n",
      "47\n",
      "48\n",
      "49\n",
      "50\n",
      "51\n",
      "52\n",
      "53\n",
      "54\n",
      "55\n",
      "56\n",
      "57\n",
      "58\n",
      "59\n",
      "60\n",
      "61\n",
      "62\n",
      "63\n",
      "64\n",
      "65\n",
      "66\n",
      "67\n",
      "68\n",
      "69\n",
      "70\n",
      "71\n",
      "72\n",
      "73\n",
      "74\n",
      "75\n",
      "76\n",
      "77\n",
      "78\n",
      "79\n",
      "80\n",
      "81\n",
      "82\n",
      "83\n",
      "84\n",
      "85\n",
      "86\n",
      "87\n",
      "88\n",
      "89\n",
      "90\n",
      "91\n",
      "92\n",
      "93\n",
      "94\n",
      "95\n",
      "96\n",
      "97\n",
      "98\n",
      "99\n",
      "100\n",
      "0.0010862350463867188\n"
     ]
    }
   ],
   "source": [
    "import time\n",
    "\n",
    "start = time.time()\n",
    "for i in range(1,101):\n",
    "    print(i)\n",
    "print(time.time() - start)"
   ]
  },
  {
   "cell_type": "markdown",
   "id": "4dd52732",
   "metadata": {},
   "source": [
    "this approach does not follow in industry because it has many problems with this approach :-\n",
    "- time varies if implementation changes, if we use while loop instead of for loop than it changes time for execution\n",
    "- different machine different times\n",
    "- does not work for extremely small input\n",
    "- time varies for different inputs, but cant establish a relationship\n",
    "* it has one only advantages that is - different time for different algorithm "
   ]
  },
  {
   "cell_type": "markdown",
   "id": "74e17e40",
   "metadata": {},
   "source": [
    "## 2.Counting operations"
   ]
  },
  {
   "cell_type": "code",
   "execution_count": 7,
   "id": "1f66a895",
   "metadata": {},
   "outputs": [],
   "source": [
    "def c_to_f(c):\n",
    "    return c*9.0/5+32 # three operations\n",
    "\n",
    "def mysum(x):\n",
    "    total = 0 # one operation\n",
    "    for i in range(x+1): # one operation\n",
    "        total += i # two operations\n",
    "    return total\n",
    "# total operations are (1 + 3x)\n",
    "# here x is input in funtion that iterates in loop\n",
    "# for example if x = 4 then total operations are 13\n",
    "        "
   ]
  },
  {
   "cell_type": "markdown",
   "id": "24920775",
   "metadata": {},
   "source": [
    "> Problems with this approach :-\n",
    "- Different time for different algorithm.[no]\n",
    "- time varies if implementation changes.[yes]\n",
    "- different machine different times.[no]\n",
    "- No clear definition of which operation to count.[yes]\n",
    "- time varies for different inputs,but cant establish a relationship.[no]"
   ]
  },
  {
   "cell_type": "markdown",
   "id": "0cc769f4",
   "metadata": {},
   "source": [
    "## Order of growth"
   ]
  },
  {
   "cell_type": "markdown",
   "id": "fe778673",
   "metadata": {},
   "source": [
    "> Goals:-\n",
    "- evaluate program efficiency When input is very big\n",
    "- Express the growth Of programs run time as input size grows\n",
    "- Want to put an upper bound on growth as tight as possible\n",
    "- Don't need to be precise 'order of' not 'exact' growth\n",
    "- We will look at largest factors in run time (which section of the program will take the longest to run?)"
   ]
  },
  {
   "cell_type": "markdown",
   "id": "93700e8a",
   "metadata": {},
   "source": [
    "#### Measuring order of growth:Big OH notation\n",
    "- Big oh notation measures an upper bound on the asymptotic growth, often called order of growth\n",
    "- Big oh or O() is used to describe worst case\n",
    "    - worst case occurs often and is the bottleneck when a program runs\n",
    "    - express rate of growth of program relative to the input size\n",
    "    - evaluate algorithm NOT machine or implementation\n",
    "for example - if program has 1+5n operations the its big O is O(n) linear.\n",
    "    - worst case asymptotic complextity:\n",
    "        - ignore additive constants\n",
    "        - ignore multiplicative constants"
   ]
  },
  {
   "cell_type": "markdown",
   "id": "b7da29b8",
   "metadata": {},
   "source": [
    "> Practice :-\n",
    " - n^2 +2n +2\n",
    "    - n^2 means nested loop\n",
    "    - remove 2, then n^2+2n next remove 2 from 2n then it n^2+n now remove n then it order is O(n^2) according to ordder of growth\n",
    " - n^2 + 100000n +3^1000\n",
    "    - its order is O(n^2)\n",
    " - log(n) + n + 4\n",
    "    - its order is O(n) because for larger number log(n) is smaller than n\n",
    " - 0.0001*n*log(n) + 300n\n",
    "    - its order is O(nlog(n))\n",
    " - 2n^30 + 3^n \n",
    "    - its order is O(3^n)"
   ]
  },
  {
   "cell_type": "markdown",
   "id": "dcf34b81",
   "metadata": {},
   "source": [
    "> Types of orders of growth\n",
    "- Constant \n",
    "- linear\n",
    "- quadratic\n",
    "- logarithmic (if input multiplies then output add)\n",
    ",whenever division occur then it is log(n)\n",
    "- nlogn\n",
    "- exponential (if input add then output multiplies)"
   ]
  },
  {
   "cell_type": "markdown",
   "id": "c6b7d273",
   "metadata": {},
   "source": [
    ">Example\n",
    "\n",
    "- If we have an array with 100 elements and for searching value of arr[100] that is 75 takes t sec;\n",
    "- now increase the size of array with more 100 elements then find arr[100] then still take same time t sec;"
   ]
  }
 ],
 "metadata": {
  "kernelspec": {
   "display_name": "venv",
   "language": "python",
   "name": "python3"
  },
  "language_info": {
   "codemirror_mode": {
    "name": "ipython",
    "version": 3
   },
   "file_extension": ".py",
   "mimetype": "text/x-python",
   "name": "python",
   "nbconvert_exporter": "python",
   "pygments_lexer": "ipython3",
   "version": "3.13.3"
  }
 },
 "nbformat": 4,
 "nbformat_minor": 5
}
